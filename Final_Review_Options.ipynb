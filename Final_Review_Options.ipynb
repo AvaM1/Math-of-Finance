{
 "cells": [
  {
   "cell_type": "markdown",
   "metadata": {},
   "source": [
    "### Introduction to Options and Put-Call Parity\n",
    "\n",
    "#### European Options\n",
    "\n",
    "Options are financial derivatives that give buyers the right, but not the obligation, to buy or sell an underlying asset at a predetermined price, known as the strike price, before a specified expiration date.\n",
    "\n",
    "##### European Call and Put Options\n",
    "\n",
    "- **Call Option**: Gives the holder the right to buy the underlying asset at the strike price.\n",
    "- **Put Option**: Gives the holder the right to sell the underlying asset at the strike price.\n",
    "\n",
    "##### Long and Short Positions\n",
    "\n",
    "- **Long Position (Buying an Option)**: The buyer of the option holds a long position. They have the right to exercise the option.\n",
    "- **Short Position (Selling/Writing an Option)**: The seller or writer of the option holds a short position. They have the obligation to fulfill the contract if the buyer exercises the option.\n",
    "\n",
    "##### Profit Equations for European Options\n",
    "\n",
    "The profit for options can be calculated as follows:\n",
    "\n",
    "- **Call Option Profit**: \n",
    "  $$\\text{Profit} = \\max(S_T - K, 0) - \\text{Premium}$$\n",
    "  Where $S_T$ is the spot price of the underlying asset at expiration, $K$ is the strike price, and $\\text{Premium}$ is the price paid for the option.\n",
    "\n",
    "- **Put Option Profit**:\n",
    "  $$\\text{Profit} = \\max(K - S_T, 0) - \\text{Premium}$$\n",
    "  Where $S_T$ is the spot price of the underlying asset at expiration, $K$ is the strike price, and $\\text{Premium}$ is the price paid for the option.\n",
    "\n",
    "#### Put-Call Parity\n",
    "\n",
    "The put-call parity is a principle in options pricing that describes the relationship between the prices of European call and put options with the same underlying asset, strike price, and expiration date.\n",
    "\n",
    "The put-call parity equation is given by:\n",
    "\n",
    "$$C + Ke^{-r(T-t)} = P + S_t$$\n",
    "\n",
    "Where:\n",
    "- $C$ is the price of the European call option\n",
    "- $P$ is the price of the European put option\n",
    "- $K$ is the strike price\n",
    "- $r$ is the risk-free interest rate\n",
    "- $T-t$ is the time to expiration\n",
    "- $S_t$ is the current spot price of the underlying asset\n",
    "\n",
    "This equation demonstrates that the value of a portfolio consisting of a long call and a short put with the same strike price and expiration date should be equal to the value of a portfolio consisting of the underlying asset and a risk-free bond with a face value equal to the strike price.\n",
    "\n"
   ]
  },
  {
   "cell_type": "markdown",
   "metadata": {},
   "source": [
    "### Question 1\n",
    "\n",
    "Microsoft Corporation (ticker: MSFT) has a market capitalization of $1.9 trillion, and its stock is currently trading at $250. Consider a portfolio of MSFT stock options that consists of the following components, all with six months until expiration:\n",
    "\n",
    "- Long 10 call option with a strike price of $220\n",
    "- Short 10 put option with a strike price of $220\n",
    "- Short 10 call option with a strike price of $280\n",
    "- Long 10 put option with a strike price of $280\n",
    "\n",
    "Assuming there is no arbitrage in the market and the risk-free annual interest rate is 2%, what must be the value of this options portfolio today? \n"
   ]
  },
  {
   "cell_type": "markdown",
   "metadata": {},
   "source": [
    "#### Solution\n",
    "\n",
    "To solve this problem, we can use the put-call parity equation for each pair of options with the same strike price. The put-call parity equation states that:\n",
    "\n",
    "$$C + Ke^{-r(T-t)} = P + S_t$$\n",
    "\n",
    "\n",
    "For the first pair of options with a strike price of $220, let:\n",
    "- $C_{220}$ be the price of the call option with strike price $220\n",
    "- $P_{220}$ be the price of the put option with strike price $220\n",
    "\n",
    "Similarly, for the second pair of options with a strike price of $280, let:\n",
    "- $C_{280}$ be the price of the call option with strike price $280\n",
    "- $P_{280}$ be the price of the put option with strike price $280\n",
    "\n",
    "Applying the put-call parity equation to each pair of options:\n",
    "\n",
    "$$C_{220} + 220e^{-0.02 \\times 0.5} = P_{220} + 250$$\n",
    "$$C_{280} + 280e^{-0.02 \\times 0.5} = P_{280} + 250$$\n",
    "\n",
    "The value of the options portfolio is:\n",
    "\n",
    "$$10V =10( C_{220} - P_{220} - C_{280} + P_{280})$$\n",
    "\n",
    "Substituting the put-call parity equations into the portfolio value equation:\n",
    "\n",
    "$$V = (P_{220} + 250 - 220e^{-0.02 \\times 0.5}) - P_{220} - (P_{280} + 250 - 280e^{-0.02 \\times 0.5}) + P_{280}$$\n",
    "\n",
    "Simplifying the equation:\n",
    "\n",
    "$$V = 280e^{-0.02 \\times 0.5} - 220e^{-0.02 \\times 0.5} = 60e^{-0.02 \\times 0.5}$$\n",
    "\n",
    "Calculating the numerical value:\n",
    "\n",
    "$$10*V = 10*60e^{-0.02 \\times 0.5} \\approx 594$$\n",
    "\n",
    "Therefore, the value of the options portfolio today is approximately $594."
   ]
  },
  {
   "cell_type": "markdown",
   "metadata": {},
   "source": [
    "### Problem 2\n",
    "\n",
    "You read in the press this morning that, for an expiration date of a year from now (with 5% interest) that $C_{60}(70, t) = 9$ and $P_{60}(70, t) = 4$. How can you use this information to make some money?"
   ]
  },
  {
   "cell_type": "code",
   "execution_count": 1,
   "metadata": {},
   "outputs": [
    {
     "name": "stdout",
     "output_type": "stream",
     "text": [
      "Arbitrage opportunity of $7.93 exists.\n",
      "Strategy: Buy the call option for $9.00, sell the put option for $4.00, sell (short) the stock at $70.00, invest $57.07 in the risk free asset.\n"
     ]
    }
   ],
   "source": [
    "import numpy as np\n",
    "# Given values\n",
    "C = 9  # Price of the call option\n",
    "P = 4  # Price of the put option\n",
    "E = 60  # Strike price\n",
    "S = 70  # Current stock price\n",
    "r = 0.05  # Interest rate\n",
    "T = 1  # Time to expiration in years\n",
    "\n",
    "# Calculate the present value of the strike price\n",
    "E_discounted = E * np.exp(-r * T)\n",
    "\n",
    "# Calculate the left-hand side (LHS) and right-hand side (RHS) of the equation\n",
    "LHS = C + E_discounted\n",
    "RHS = P + S\n",
    "\n",
    "# Determine if there is an arbitrage opportunity and suggest strategy\n",
    "if LHS > RHS:\n",
    "    # LHS is overpriced, sell the call, buy the put, and invest the strike price at risk-free rate\n",
    "    arbitrage_amount = LHS - RHS\n",
    "    strategy = f\"Sell the call option for ${C:.2f}, buy the put option for ${P:.2f}, take out a loan of ${E_discounted:.2f}, buy the stock at ${S:.2f} \"\n",
    "elif LHS < RHS:\n",
    "    # RHS is overpriced, buy the call, sell the put, and borrow the strike price at risk-free rate\n",
    "    arbitrage_amount = RHS - LHS\n",
    "    strategy = f\"Buy the call option for ${C:.2f}, sell the put option for ${P:.2f}, sell (short) the stock at ${S:.2f}, invest ${E_discounted:.2f} in the risk free asset.\"\n",
    "else:\n",
    "    # No arbitrage opportunity exists\n",
    "    arbitrage_amount = 0\n",
    "    strategy = \"No arbitrage opportunity is available.\"\n",
    "\n",
    "print(f\"Arbitrage opportunity of ${arbitrage_amount:.2f} exists.\")\n",
    "print(\"Strategy:\", strategy)\n"
   ]
  },
  {
   "cell_type": "markdown",
   "metadata": {},
   "source": []
  }
 ],
 "metadata": {
  "kernelspec": {
   "display_name": "bridge_test",
   "language": "python",
   "name": "python3"
  },
  "language_info": {
   "codemirror_mode": {
    "name": "ipython",
    "version": 3
   },
   "file_extension": ".py",
   "mimetype": "text/x-python",
   "name": "python",
   "nbconvert_exporter": "python",
   "pygments_lexer": "ipython3",
   "version": "3.11.4"
  }
 },
 "nbformat": 4,
 "nbformat_minor": 2
}

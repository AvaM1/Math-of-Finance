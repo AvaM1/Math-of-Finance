{
 "cells": [
  {
   "cell_type": "markdown",
   "metadata": {},
   "source": [
    "## Question 1\n",
    "\n",
    "Consider an investor who allocates funds into three different types of stocks: tech, healthcare, and energy. The investor selects a single stock to invest in each day, randomly choosing from a pool consisting of 5 tech, 8 healthcare, and 4 energy stocks. The daily return on investment (ROI) for selecting a tech stock is 5%, for a healthcare stock is 8%, and for an energy stock is 12%.\n",
    "\n",
    "The investor follows this investment strategy for 500 days, summing up the ROIs from each day's investment.\n",
    "\n",
    "Using the Central Limit Theorem, estimate the probability that the total ROI over 500 days exceeds 405%. Express your answer as a percentage, rounded to two decimal places.\n"
   ]
  },
  {
   "cell_type": "markdown",
   "metadata": {},
   "source": [
    "## Question 2\n",
    "\n",
    "\n",
    "A bookmaker offers a promotional deal: you get $100 if you deposit at least $1000 or more in your account. The catch is you have to bet at least $1000 on their site before you take out your money. The different bets on the website are listed below. You decide to deposit $1000. What is the maximum gaurenteed amount you can withdraw?\n",
    "\n",
    "1. **Tennis: Serena Williams vs. Naomi Osaka**\n",
    "   - Serena Williams to win: 4/5\n",
    "   - Naomi Osaka to win: 1/1\n",
    "\n",
    "2. **Basketball: Los Angeles Lakers vs. Boston Celtics**\n",
    "   - Los Angeles Lakers to win: 6/4\n",
    "   - Boston Celtics to win: 1/2\n",
    "\n",
    "3. **Soccer: Manchester City vs. Liverpool**\n",
    "   - Manchester City to win: 1/3\n",
    "   - Liverpool to win: 3/1\n",
    "\n",
    "4. **Boxing: Anthony Joshua vs. Tyson Fury**\n",
    "   - Anthony Joshua to win: 1/1\n",
    "   - Tyson Fury to win: 4/6\n",
    "\n",
    "5. **Horse Racing: Horse A vs. Horse B in a head-to-head matchup**\n",
    "   - Horse A to win: 2/1\n",
    "   - Horse B to win: 2/5\n",
    "\n",
    "6. **Football: New England Patriots vs. Dallas Cowboys**\n",
    "   - New England Patriots to win: 10/11\n",
    "   - Dallas Cowboys to win: 10/11\n",
    "\n",
    "7. **Golf: Head-to-head matchup  - Rory McIlroy vs. Dustin Johnson**\n",
    "   - Rory McIlroy to win: 5/6\n",
    "   - Dustin Johnson to win: 5/6\n",
    "\n",
    "\n",
    "\n",
    "\n"
   ]
  },
  {
   "cell_type": "markdown",
   "metadata": {},
   "source": [
    "## Problem 3\n",
    "You are analyzing an options market where the current price of the underlying stock is $150. There is a European call option priced at $10 at a strike price of $E$ and a corresponding European put option priced at $7 at a strike price of $E$. Both options have the same expiration date, 1 year from now. The annual risk-free interest rate is 4%.\n",
    "\n",
    "Using the put-call parity principle, determine the strike price $E$ of these options.\n"
   ]
  },
  {
   "cell_type": "markdown",
   "metadata": {},
   "source": [
    "## Problem 4\n",
    "\n",
    "Given the function $ f(x, y) = x^3 - 2xy + e^y $, use a two-dimensional Taylor series expansion to approximate the value of the function at the point $ (1.1, 0.1) $, based on its expansion around the point $ (1, 0) $.\n",
    "\n",
    "Consider terms up to and including the second order in your expansion."
   ]
  },
  {
   "cell_type": "markdown",
   "metadata": {},
   "source": [
    "## Problem 5\n",
    "\n",
    "In probability theory, the logit-normal distribution arises when the logit of a random variable follows a normal distribution. Specifically, if $ Y $ is a random variable with a normal distribution, and $ h $ is the standard logistic function given by $ h(y) = \\frac{1}{1 + e^{-y}} $, then the random variable $ X = h(Y)$ has a logit-normal distribution. \n",
    "\n",
    "\n",
    "Given a random variable $ Y $ that follows a normal distribution with mean $ \\mu $ and variance $ \\sigma^2 $, derive the PDF of the random variable $ X = h(Y) $, where $ X $ has a logit-normal distribution.\n"
   ]
  }
 ],
 "metadata": {
  "kernelspec": {
   "display_name": "bridge_test",
   "language": "python",
   "name": "python3"
  },
  "language_info": {
   "name": "python",
   "version": "3.11.4"
  }
 },
 "nbformat": 4,
 "nbformat_minor": 2
}
